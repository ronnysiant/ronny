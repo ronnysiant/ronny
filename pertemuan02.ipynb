{
 "cells": [
  {
   "cell_type": "code",
   "execution_count": 1,
   "metadata": {},
   "outputs": [
    {
     "name": "stdout",
     "output_type": "stream",
     "text": [
      "Operator Relasional \n",
      "===================\n",
      "A = 10 dan  B = 20\n",
      "1. A == B bernilai  False\n",
      "2. A != B bernilai  True\n",
      "3. A > B  bernilai  False\n",
      "4. A < B  bernilai  True\n",
      "5. A >= B bernilai  False\n",
      "6. A <= B bernilai  True\n",
      "\n",
      "Operator Logika\n",
      "===============\n",
      "1. True  or  True  bernilai  True\n",
      "2. True  or  False bernilai  True\n",
      "3. False or  True  bernilai  True\n",
      "4. False or  False bernilai  False\n",
      "5. True  and True  bernilai  True\n",
      "6. True  and False bernilai  False\n",
      "7. False and True  bernilai  False\n",
      "8. False and False bernilai  False\n",
      "9. not True        bernilai  False\n",
      "10.not False       bernilai  True\n"
     ]
    }
   ],
   "source": [
    "A=10\n",
    "B=20\n",
    "print(\"Operator Relasional \")\n",
    "print(\"===================\")\n",
    "print(\"A = 10 dan  B = 20\")\n",
    "print(\"1. A == B bernilai \",A == B)\n",
    "print(\"2. A != B bernilai \",A != B)\n",
    "print(\"3. A > B  bernilai \",A > B)\n",
    "print(\"4. A < B  bernilai \",A < B)\n",
    "print(\"5. A >= B bernilai \",A >= B)\n",
    "print(\"6. A <= B bernilai \",A <= B)\n",
    "print(\"\")\n",
    "print(\"Operator Logika\")\n",
    "print(\"===============\")\n",
    "print(\"1. True  or  True  bernilai \", True or True)\n",
    "print(\"2. True  or  False bernilai \", True or False)\n",
    "print(\"3. False or  True  bernilai \", False or True)      \n",
    "print(\"4. False or  False bernilai \", False or False) \n",
    "print(\"5. True  and True  bernilai \", True and True)\n",
    "print(\"6. True  and False bernilai \", True and False)\n",
    "print(\"7. False and True  bernilai \", False and True)      \n",
    "print(\"8. False and False bernilai \", False and False) \n",
    "print(\"9. not True        bernilai \", not True) \n",
    "print(\"10.not False       bernilai \", not False) "
   ]
  },
  {
   "cell_type": "code",
   "execution_count": null,
   "metadata": {},
   "outputs": [],
   "source": []
  },
  {
   "cell_type": "code",
   "execution_count": 7,
   "metadata": {},
   "outputs": [
    {
     "name": "stdout",
     "output_type": "stream",
     "text": [
      "Operator Relasional \n",
      "===================\n",
      "A = 10 dan  B = 20\n",
      "1. not (A == B) bernilai  True  ekuivalen A != B bernilai  True\n",
      "2. not (A != B) bernilai  False  ekuivalen A == B bernilai  False\n",
      "3. not (A > B ) bernilai  True  ekuivalen A <= B bernilai  True\n",
      "4. not (A < B ) bernilai  False  ekuivalen A >= B bernilai  False\n",
      "5. not (A >= B) bernilai  True  ekuivalen A < B  bernilai  True\n",
      "6. not (A <= B) bernilai  False  ekuivalen A > B  bernilai  False\n",
      "\n",
      "Operator Logika\n",
      "===============\n",
      "1. not(True  or  True)  bernilai  False  ekuivalen False and False  bernilai  False\n",
      "2. not(True  or  False) bernilai  False  ekuivalen False and True  bernilai  False\n",
      "3. not(False or  True) bernilai  False  ekuivalen True and False  bernilai  False\n",
      "4. not(False  or  False) bernilai  True  ekuivalen True  and True  bernilai  True\n",
      "5. not(True  and True)  bernilai  False  ekuivalen False or False  bernilai  False\n",
      "6. not(True  and  False) bernilai  True  ekuivalen False or True  bernilai  True\n",
      "7. not(False and  True) bernilai  True  ekuivalen True or False  bernilai  True\n",
      "8. not(False  and  False) bernilai  True  ekuivalen True  or True  bernilai  True\n"
     ]
    }
   ],
   "source": [
    "A=10\n",
    "B=20\n",
    "print(\"Operator Relasional \")\n",
    "print(\"===================\")\n",
    "print(\"A = 10 dan  B = 20\")\n",
    "print(\"1. not (A == B) bernilai \",not(A == B),\" ekuivalen A != B bernilai \",A != B)\n",
    "print(\"2. not (A != B) bernilai \",not(A != B),\" ekuivalen A == B bernilai \",A == B)\n",
    "print(\"3. not (A > B ) bernilai \",not(A > B) ,\" ekuivalen A <= B bernilai \",A <= B)\n",
    "print(\"4. not (A < B ) bernilai \",not(A < B) ,\" ekuivalen A >= B bernilai \",A >= B)\n",
    "print(\"5. not (A >= B) bernilai \",not(A >= B),\" ekuivalen A < B  bernilai \",A < B)\n",
    "print(\"6. not (A <= B) bernilai \",not(A <= B),\" ekuivalen A > B  bernilai \",A > B)\n",
    "print(\"\")\n",
    "print(\"Operator Logika\")\n",
    "print(\"===============\")\n",
    "print(\"1. not(True  or  True)  bernilai \", not(True or True),\" ekuivalen False and False  bernilai \",False and False)     \n",
    "print(\"2. not(True  or  False) bernilai \", not(True or False),\" ekuivalen False and True  bernilai \",False and True)\n",
    "print(\"3. not(False or  True) bernilai \", not(False or True),\" ekuivalen True and False  bernilai \",True and False)\n",
    "print(\"4. not(False  or  False) bernilai \", not(False or False),\" ekuivalen True  and True  bernilai \",True and True)    \n",
    "print(\"5. not(True  and True)  bernilai \", not(True and True),\" ekuivalen False or False  bernilai \",False or False)     \n",
    "print(\"6. not(True  and  False) bernilai \", not(True and False),\" ekuivalen False or True  bernilai \",False or True)\n",
    "print(\"7. not(False and  True) bernilai \", not(False and True),\" ekuivalen True or False  bernilai \",True or False)\n",
    "print(\"8. not(False  and  False) bernilai \", not(False and False),\" ekuivalen True  or True  bernilai \",True or True)  "
   ]
  },
  {
   "cell_type": "code",
   "execution_count": 5,
   "metadata": {},
   "outputs": [
    {
     "name": "stdout",
     "output_type": "stream",
     "text": [
      "A =-9\n",
      "A = 9\n"
     ]
    }
   ],
   "source": [
    "# abs(A)\n",
    "A = int(input(\"A =\"))\n",
    "if A<0:\n",
    "    A=-A\n",
    "print(\"A =\",A)"
   ]
  },
  {
   "cell_type": "code",
   "execution_count": 3,
   "metadata": {},
   "outputs": [
    {
     "name": "stdout",
     "output_type": "stream",
     "text": [
      "Bilangan Pertama : 0\n",
      "Bilangan Kedua   : 6\n",
      "bilangan terbesar adalah 6\n"
     ]
    }
   ],
   "source": [
    "# mencetak bilangan terbesar dari 2 buah bilangan\n",
    "B1=int(input(\"Bilangan Pertama : \"))\n",
    "B2=int(input(\"Bilangan Kedua   : \"))\n",
    "print(\"bilangan terbesar adalah \",end=\"\")\n",
    "if B1>B2:\n",
    "    print(B1)\n",
    "else:\n",
    "    print(B2)"
   ]
  },
  {
   "cell_type": "code",
   "execution_count": 13,
   "metadata": {},
   "outputs": [
    {
     "name": "stdout",
     "output_type": "stream",
     "text": [
      "Bilangan Pertama : 3\n",
      "Bilangan Kedua   : 4\n",
      "Bilangan Ketiga  : 5\n",
      "bilangan terbesar adalah 5\n"
     ]
    }
   ],
   "source": [
    "# mencetak bilangan terbesar dari 3 buah bilangan\n",
    "B1=int(input(\"Bilangan Pertama : \"))\n",
    "B2=int(input(\"Bilangan Kedua   : \"))\n",
    "B3=int(input(\"Bilangan Ketiga  : \"))\n",
    "print(\"bilangan terbesar adalah \",end=\"\")\n",
    "if B1>B2:\n",
    "    if B1>B3:\n",
    "        print(B1)\n",
    "    else:\n",
    "        print(B3)\n",
    "elif B2>B3:\n",
    "    print(B2)\n",
    "else:\n",
    "    print(B3)"
   ]
  },
  {
   "cell_type": "code",
   "execution_count": 14,
   "metadata": {},
   "outputs": [
    {
     "name": "stdout",
     "output_type": "stream",
     "text": [
      "Bilangan Pertama : 1\n",
      "Bilangan Kedua   : 2\n",
      "Bilangan Ketiga  : 3\n",
      "Bilangan Keempat : 4\n",
      "Bilangan Kelima  : 5\n",
      "bilangan terbesar adalah 5\n"
     ]
    }
   ],
   "source": [
    "# mencetak bilangan terbesar dari 5 buah bilangan\n",
    "B1=int(input(\"Bilangan Pertama : \"))\n",
    "B2=int(input(\"Bilangan Kedua   : \"))\n",
    "B3=int(input(\"Bilangan Ketiga  : \"))\n",
    "B4=int(input(\"Bilangan Keempat : \"))\n",
    "B5=int(input(\"Bilangan Kelima  : \"))\n",
    "print(\"bilangan terbesar adalah \",end=\"\")\n",
    "B=B1\n",
    "if B<B2:B=B2\n",
    "if B<B3:B=B3\n",
    "if B<B4:B=B4\n",
    "if B<B5:B=B5\n",
    "print(B)\n",
    "    "
   ]
  },
  {
   "cell_type": "code",
   "execution_count": 15,
   "metadata": {},
   "outputs": [
    {
     "name": "stdout",
     "output_type": "stream",
     "text": [
      "Bilangan Pertama : 1\n",
      "Bilangan Kedua   : 2\n",
      "Bilangan Ketiga  : 3\n",
      "Bilangan Keempat : 4\n",
      "Bilangan Kelima  : 5\n",
      "bilangan terbesar adalah 5\n",
      "bilangan terkecil adalah 1\n"
     ]
    }
   ],
   "source": [
    "# mencetak bilangan terbesar dan terkecil dari 5 buah bilangan\n",
    "B1=int(input(\"Bilangan Pertama : \"))\n",
    "B2=int(input(\"Bilangan Kedua   : \"))\n",
    "B3=int(input(\"Bilangan Ketiga  : \"))\n",
    "B4=int(input(\"Bilangan Keempat : \"))\n",
    "B5=int(input(\"Bilangan Kelima  : \"))\n",
    "print(\"bilangan terbesar adalah \",end=\"\")\n",
    "B=B1\n",
    "if B<B2:B=B2\n",
    "if B<B3:B=B3\n",
    "if B<B4:B=B4\n",
    "if B<B5:B=B5\n",
    "print(B)\n",
    "print(\"bilangan terkecil adalah \",end=\"\")\n",
    "B=B1\n",
    "if B>B2:B=B2\n",
    "if B>B3:B=B3\n",
    "if B>B4:B=B4\n",
    "if B>B5:B=B5\n",
    "print(B)"
   ]
  },
  {
   "cell_type": "code",
   "execution_count": 21,
   "metadata": {},
   "outputs": [
    {
     "name": "stdout",
     "output_type": "stream",
     "text": [
      "Bilangan Pertama : 1\n",
      "Bilangan Kedua   : 2\n",
      "Bilangan Ketiga  : 3\n",
      "Bilangan Keempat : 4\n",
      "Bilangan Kelima  : 5\n",
      "bilangan terbesar adalah  5\n",
      "bilangan terkecil adalah  1\n"
     ]
    }
   ],
   "source": [
    "# mencetak bilangan terbesar dan terkecil dari 5 buah bilangan\n",
    "# menggunakan 2 variabel bantu\n",
    "B1=int(input(\"Bilangan Pertama : \"))\n",
    "B2=int(input(\"Bilangan Kedua   : \"))\n",
    "B3=int(input(\"Bilangan Ketiga  : \"))\n",
    "B4=int(input(\"Bilangan Keempat : \"))\n",
    "B5=int(input(\"Bilangan Kelima  : \"))\n",
    "\n",
    "BB=B1\n",
    "BK=B1\n",
    "\n",
    "if BB<B2:\n",
    "    BB=B2\n",
    "elif BK>B2:\n",
    "    BK=B2\n",
    "    \n",
    "if BB<B3:\n",
    "    BB=B3\n",
    "elif BK>B3:\n",
    "    BK=B3\n",
    "\n",
    "if BB<B4:\n",
    "    B=B4\n",
    "elif BK>B4:\n",
    "    BK=B4\n",
    "    \n",
    "if BB<B5:\n",
    "    BB=B5\n",
    "elif BK>B5:\n",
    "    BK=B5\n",
    "print(\"bilangan terbesar adalah \",BB)\n",
    "print(\"bilangan terkecil adalah \",BK)\n"
   ]
  },
  {
   "cell_type": "code",
   "execution_count": 9,
   "metadata": {},
   "outputs": [
    {
     "name": "stdout",
     "output_type": "stream",
     "text": [
      "Pembilang : 0\n",
      "Penyebut  : 4\n",
      "0 / 4 = 0.0\n"
     ]
    }
   ],
   "source": [
    "# Menghitung pembagian\n",
    "\n",
    "Pembilang=int(input(\"Pembilang : \"))\n",
    "Penyebut =int(input(\"Penyebut  : \"))\n",
    "\n",
    "if Penyebut==0:\n",
    "    if Pembilang==0:\n",
    "        print(\"tidak terdefinisi\")\n",
    "    else:\n",
    "        print(\"tak berhingga\")\n",
    "else:\n",
    "    print(Pembilang,\"/\", Penyebut,\"=\",Pembilang/Penyebut)"
   ]
  },
  {
   "cell_type": "code",
   "execution_count": 14,
   "metadata": {},
   "outputs": [
    {
     "name": "stdout",
     "output_type": "stream",
     "text": [
      "A=1\n",
      "B=3\n",
      "C=1\n",
      "x1= -0.3819660112501051\n",
      "x2= -2.618033988749895\n"
     ]
    }
   ],
   "source": [
    "# Persamaan Kuadrat\n",
    "# A x^2 + B x + c=0\n",
    "A=int(input(\"A=\"))\n",
    "B=int(input(\"B=\"))\n",
    "C=int(input(\"C=\"))\n",
    "\n",
    "if A==0:\n",
    "    if B==0:\n",
    "        if C==0:\n",
    "            print(\"Solusi banyak tak berhingga\")\n",
    "        else:\n",
    "            print(\"Tidak memiliki solusi\")\n",
    "    else:\n",
    "        print(\"x=\",-C/B)\n",
    "else:\n",
    "    D=B*B-4*A*C\n",
    "    if D<0:\n",
    "        xr=-B/(2*A)\n",
    "        xi=(-D)**0.5/2/A\n",
    "        print(\"x1 =\",xr,\"+\",xi,\" i\")\n",
    "        print(\"x1 =\",xr,\"-\",xi,\" i\")\n",
    "    else:\n",
    "        x1=(-B+D**0.5)/2/A\n",
    "        x2=(-B-D**0.5)/2/A\n",
    "        print(\"x1=\",x1)\n",
    "        print(\"x2=\",x2)\n",
    "        \n",
    "# Data Uji\n",
    "# A=0 B=0 C=0\n",
    "# A=0 B=0 C=4\n",
    "# A=0 B=5 C=4\n",
    "# A=5 B=1 C=4\n",
    "# A=1 B=3 C=1\n"
   ]
  },
  {
   "cell_type": "code",
   "execution_count": 17,
   "metadata": {},
   "outputs": [
    {
     "name": "stdout",
     "output_type": "stream",
     "text": [
      "A1=2\n",
      "B1=3\n",
      "C1=5\n",
      "A2=1\n",
      "B2=-1\n",
      "C2=7\n",
      "x= 5.2\n",
      "y= -1.8\n"
     ]
    }
   ],
   "source": [
    "# Sistem persamana linier\n",
    "# a1 x + b1 y = c1\n",
    "# a2 x + b2 y = c2\n",
    "\n",
    "A1=int(input(\"A1=\"))\n",
    "B1=int(input(\"B1=\"))\n",
    "C1=int(input(\"C1=\"))\n",
    "A2=int(input(\"A2=\"))\n",
    "B2=int(input(\"B2=\"))\n",
    "C2=int(input(\"C2=\"))\n",
    "\n",
    "DA=A1*B2-A2*B1\n",
    "if DA==0:\n",
    "    DC=A1*C2-A2*C1\n",
    "    if DC==0:\n",
    "        print(\"banyak jawaban tak berhingga\")\n",
    "    else:\n",
    "        print(\"tidak memiliki jawaban\")\n",
    "else:\n",
    "    x=(C1*B2-C2*B1)/DA\n",
    "    y=(A1*C2-A2*C1)/DA\n",
    "    print(\"x=\",x)\n",
    "    print(\"y=\",y)\n",
    "    \n",
    "# Data uji\n",
    "# A1=2   B1=3  C1=5   A2=4   B2=6  C2=10   (berimpit)\n",
    "# A1=2   B1=3  C1=5   A2=4   B2=6  C2=3   (paralel)\n",
    "# A1=2   B1=3  C1=5   A2=1   B2=-1  C2=7   (solusi tunggal)"
   ]
  },
  {
   "cell_type": "code",
   "execution_count": null,
   "metadata": {},
   "outputs": [],
   "source": [
    "# diketahui 3 garis lurus (A,B,C)\n",
    "# diperiksa apakah 3 garis tersebut dapat membentuk segitiga\n",
    "# Jika dapat hitung luas segitiga\n",
    "# S=(A+B+C)/2\n",
    "# luas =(S(S-A)(S-B)(S-C))**0.5"
   ]
  }
 ],
 "metadata": {
  "kernelspec": {
   "display_name": "Python 3",
   "language": "python",
   "name": "python3"
  },
  "language_info": {
   "codemirror_mode": {
    "name": "ipython",
    "version": 3
   },
   "file_extension": ".py",
   "mimetype": "text/x-python",
   "name": "python",
   "nbconvert_exporter": "python",
   "pygments_lexer": "ipython3",
   "version": "3.7.3"
  }
 },
 "nbformat": 4,
 "nbformat_minor": 2
}
